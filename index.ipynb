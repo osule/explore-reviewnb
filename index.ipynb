{
 "cells": [
  {
   "cell_type": "code",
   "execution_count": 16,
   "metadata": {},
   "outputs": [],
   "source": [
    "from itertools import starmap, repeat\n",
    "from random import random"
   ]
  },
  {
   "cell_type": "code",
   "execution_count": 14,
   "metadata": {},
   "outputs": [],
   "source": [
    "def repeatfunc(func, times=None, *args):\n",
    "    \"\"\"Repeat calls to func with specified arguments.\n",
    "\n",
    "    Example:  repeatfunc(random.random)\n",
    "    \"\"\"\n",
    "    if times is None:\n",
    "        return starmap(func, repeat(args))\n",
    "    return starmap(func, repeat(args, times))"
   ]
  },
  {
   "cell_type": "code",
   "execution_count": 18,
   "metadata": {},
   "outputs": [
    {
     "data": {
      "text/plain": [
       "[0.07508680181057359,\n",
       " 0.301106215224899,\n",
       " 0.6946779357252335,\n",
       " 0.4444949493827486,\n",
       " 0.0003755025311584781,\n",
       " 0.029317416345227,\n",
       " 0.7439126514624168,\n",
       " 0.5981342648094066]"
      ]
     },
     "execution_count": 18,
     "metadata": {},
     "output_type": "execute_result"
    }
   ],
   "source": [
    "list(repeatfunc(random, 8))"
   ]
  }
 ],
 "metadata": {
  "kernelspec": {
   "display_name": "Python 3",
   "language": "python",
   "name": "python3"
  },
  "language_info": {
   "codemirror_mode": {
    "name": "ipython",
    "version": 3
   },
   "file_extension": ".py",
   "mimetype": "text/x-python",
   "name": "python",
   "nbconvert_exporter": "python",
   "pygments_lexer": "ipython3",
   "version": "3.6.8"
  }
 },
 "nbformat": 4,
 "nbformat_minor": 4
}
